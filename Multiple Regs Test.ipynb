{
 "cells": [
  {
   "cell_type": "code",
   "execution_count": null,
   "metadata": {},
   "outputs": [
    {
     "name": "stdout",
     "output_type": "stream",
     "text": [
      "Qconfig loaded from C:\\Users\\ddrsq\\OneDrive\\Quantum\\qecc_benchmark\\Qconfig.py.\n",
      "\n"
     ]
    }
   ],
   "source": [
    "from qiskit import QuantumProgram, QuantumCircuit, ClassicalRegister, QuantumRegister, QISKitError\n",
    "from qiskit import available_backends, register, execute, get_backend\n",
    "from qiskit.tools.visualization import circuit_drawer, plot_histogram, plot_state\n",
    "from qiskit.tools.qi.qi import state_fidelity\n",
    "import random, pickle, time, datetime, xlsxwriter\n",
    "import scipy.io as spio\n",
    "import importlib\n",
    "import circuit_builder\n",
    "importlib.reload(circuit_builder)\n",
    "import encoding_schemes\n",
    "importlib.reload(encoding_schemes)\n",
    "\n",
    "#setup\n",
    "import sys, getpass\n",
    "try:\n",
    "    sys.path.append(\"../../\") # go to parent dir\n",
    "    import Qconfig\n",
    "    qx_config = {\n",
    "        \"APItoken\": Qconfig.APItoken,\n",
    "        \"url\": Qconfig.config['url']}\n",
    "    print('Qconfig loaded from %s.' % Qconfig.__file__)\n",
    "    print()\n",
    "except:\n",
    "    APItoken = getpass.getpass('Please input your token and hit enter: ')\n",
    "    qx_config = {\n",
    "        \"APItoken\": APItoken,\n",
    "        \"url\":\"https://quantumexperience.ng.bluemix.net/api\"}\n",
    "    print('Qconfig.py not found in qiskit-tutorial directory; Qconfig loaded using user input.')\n",
    "    \n",
    "#matlab stuff\n",
    "import matplotlib.pyplot as plt\n",
    "%matplotlib inline\n",
    "import numpy as np\n",
    "from numpy import matrix\n",
    "from math import pi\n",
    "\n",
    "#set \n",
    "QX_URL = \"https://quantumexperience.ng.bluemix.net/api\"\n",
    "QX_TOKEN = \"06704f99fc6dd68ab5ae2663f0861723406de8b4553cacdabdf500292c937717442daa90c2ffa19109cfb9114adb7c87711a08860d34d1da9332ac664e4e24a7\"\n",
    "\n",
    "#register token and url\n",
    "register(QX_TOKEN, QX_URL)\n",
    "\n",
    "# query for available backends\n",
    "print(\"Available backends: \", available_backends())\n",
    "\n",
    "backend = \"local_qasm_simulator\"\n",
    "\n",
    "\n",
    "def getReg(qc,k):\n",
    "    desired = list(qc.get_qregs().items())\n",
    "    return desired[k][1]\n",
    "\n",
    "scheme = encoding_schemes.FiveOneThree()\n",
    "\n",
    "n = scheme.n\n",
    "validOutputs = scheme.validOutputs\n",
    "perm = scheme.perm\n",
    "scheme.setPerm()\n",
    "\n",
    "qr = QuantumRegister(n)\n",
    "cr = ClassicalRegister(n)\n",
    "qc = QuantumCircuit(qr,cr)\n",
    "\n",
    "\n",
    "\n",
    "scheme.prepareZeros(qc)\n",
    "\n",
    "scheme.setInput(qc,0)\n",
    "\n",
    "scheme.measure(qc,0,False)\n",
    "\n",
    "\n",
    "\n"
   ]
  }
 ],
 "metadata": {
  "kernelspec": {
   "display_name": "Python 3",
   "language": "python",
   "name": "python3"
  },
  "language_info": {
   "codemirror_mode": {
    "name": "ipython",
    "version": 3
   },
   "file_extension": ".py",
   "mimetype": "text/x-python",
   "name": "python",
   "nbconvert_exporter": "python",
   "pygments_lexer": "ipython3",
   "version": "3.6.5"
  }
 },
 "nbformat": 4,
 "nbformat_minor": 2
}
